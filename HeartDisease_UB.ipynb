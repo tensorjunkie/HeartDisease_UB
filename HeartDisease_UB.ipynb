{
  "nbformat": 4,
  "nbformat_minor": 0,
  "metadata": {
    "colab": {
      "provenance": [],
      "authorship_tag": "ABX9TyMC3St+w+mN710lHQCHtl1K",
      "include_colab_link": true
    },
    "kernelspec": {
      "name": "python3",
      "display_name": "Python 3"
    },
    "language_info": {
      "name": "python"
    }
  },
  "cells": [
    {
      "cell_type": "markdown",
      "metadata": {
        "id": "view-in-github",
        "colab_type": "text"
      },
      "source": [
        "<a href=\"https://colab.research.google.com/github/amanrana21711/HeartDisease_UB/blob/main/HeartDisease_UB.ipynb\" target=\"_parent\"><img src=\"https://colab.research.google.com/assets/colab-badge.svg\" alt=\"Open In Colab\"/></a>"
      ]
    },
    {
      "cell_type": "code",
      "execution_count": 104,
      "metadata": {
        "id": "vZ_LCjopnQdT"
      },
      "outputs": [],
      "source": [
        "import torch\n",
        "import numpy as np\n",
        "import pandas as pd\n",
        "from torch.utils.data import TensorDataset, DataLoader\n",
        "import torch.nn as nn\n",
        "import matplotlib.pyplot as plt\n",
        "from torch.optim.lr_scheduler import ReduceLROnPlateau"
      ]
    },
    {
      "cell_type": "code",
      "source": [
        "'''I have uploaded the train.csv file in my drive. So i will import it from there'''\n",
        "from google.colab import drive\n",
        "drive.mount('/content/drive')\n"
      ],
      "metadata": {
        "colab": {
          "base_uri": "https://localhost:8080/"
        },
        "id": "KreqTzOHnqBR",
        "outputId": "a12f1ac0-1218-49c1-bf39-6692e5136f2a"
      },
      "execution_count": 70,
      "outputs": [
        {
          "output_type": "stream",
          "name": "stdout",
          "text": [
            "Drive already mounted at /content/drive; to attempt to forcibly remount, call drive.mount(\"/content/drive\", force_remount=True).\n"
          ]
        }
      ]
    },
    {
      "cell_type": "code",
      "source": [
        "'''Reading csv via panda'''\n",
        "data = pd.read_csv('/content/drive/MyDrive/dataset.csv')\n",
        "data_without_target = data.drop('target',axis = 1).values\n",
        "target_data = data['target'].values\n"
      ],
      "metadata": {
        "id": "ORfUxOewnp9u"
      },
      "execution_count": 105,
      "outputs": []
    },
    {
      "cell_type": "code",
      "source": [
        "from sklearn.preprocessing import StandardScaler\n",
        "scaler = StandardScaler()\n",
        "data_without_target = scaler.fit_transform(data_without_target)\n",
        "\n",
        "from sklearn.model_selection import train_test_split\n",
        "\n",
        "x_train,x_test,y_train,y_test = train_test_split(data_without_target,target_data,test_size = 0.2,shuffle = True)\n",
        "\n",
        "x_train = torch.FloatTensor(x_train)\n",
        "x_test = torch.FloatTensor(x_test)\n",
        "\n",
        "y_train = torch.LongTensor(y_train)\n",
        "y_test = torch.LongTensor(y_test)\n",
        "\n",
        "#using long tensor because i will be using cross entropy loss fun later\n",
        "#hope you get it because i don't\n",
        "\n",
        "tensor_ds = TensorDataset(x_train,y_train)\n",
        "tensor_dl = DataLoader(tensor_ds,batch_size = 15,shuffle = True)\n",
        "\n"
      ],
      "metadata": {
        "id": "koZU7YIpnp5A"
      },
      "execution_count": 106,
      "outputs": []
    },
    {
      "cell_type": "code",
      "source": [
        "class NN(nn.Module):\n",
        "  def __init__(self):\n",
        "    super().__init__()\n",
        "    self.linear1 = nn.Linear(11,22)\n",
        "    self.act1 = nn.LeakyReLU()\n",
        "    self.linear2 = nn.Linear(22,44)\n",
        "    self.act2 = nn.LeakyReLU()\n",
        "    self.linear3 = nn.Linear(44,2)\n",
        "  def forward(self,x):\n",
        "    x = self.linear1(x)\n",
        "    x = self.act1(x)\n",
        "    x = self.linear2(x)\n",
        "    x = self.act2(x)\n",
        "    x = self.linear3(x)\n",
        "    return x\n",
        "\n",
        "model = NN()\n",
        "\n",
        "opt = torch.optim.Adam(model.parameters(),lr = 0.0003)\n",
        "loss_fun = nn.CrossEntropyLoss()\n",
        "\n",
        "\n",
        "\n",
        "\n",
        "ll = []\n",
        "epochl = []"
      ],
      "metadata": {
        "id": "P_-Ya3gWnp3N"
      },
      "execution_count": 132,
      "outputs": []
    },
    {
      "cell_type": "code",
      "source": [
        "#let's train this bitch\n",
        "for epoch in range(1000):\n",
        "\n",
        "\n",
        "  for xb,yb in tensor_dl:\n",
        "    preds = model(xb)\n",
        "    loss = loss_fun(preds,yb)\n",
        "\n",
        "    loss.backward()\n",
        "\n",
        "    opt.step()\n",
        "    opt.zero_grad()\n",
        "\n",
        "\n",
        "\n",
        "  if epoch%100 ==99:\n",
        "    print(loss.item())\n",
        "    ll.append(loss.item())\n",
        "    epochl.append(epoch)\n",
        "\n",
        "\n",
        "\n",
        "\n"
      ],
      "metadata": {
        "colab": {
          "base_uri": "https://localhost:8080/"
        },
        "id": "8YxQwkponpzZ",
        "outputId": "ca55b26e-d0f9-4a4a-ca6a-d8aa243f6143"
      },
      "execution_count": 133,
      "outputs": [
        {
          "output_type": "stream",
          "name": "stdout",
          "text": [
            "0.1306246966123581\n",
            "0.3023240566253662\n",
            "0.04178270697593689\n",
            "0.09517962485551834\n",
            "0.012651742435991764\n",
            "7.196296064648777e-05\n",
            "0.0010955187026411295\n",
            "0.00025233582709915936\n",
            "2.9307251679711044e-05\n",
            "6.443446909543127e-05\n"
          ]
        }
      ]
    },
    {
      "cell_type": "code",
      "source": [
        "import matplotlib.pyplot as plt\n",
        "\n",
        "plt.plot(epochl,ll)\n"
      ],
      "metadata": {
        "colab": {
          "base_uri": "https://localhost:8080/",
          "height": 447
        },
        "id": "SlfXBpZsnpxd",
        "outputId": "17314827-4aa2-42fd-cf9d-a26e6e641265"
      },
      "execution_count": 134,
      "outputs": [
        {
          "output_type": "execute_result",
          "data": {
            "text/plain": [
              "[<matplotlib.lines.Line2D at 0x793b9531c390>]"
            ]
          },
          "metadata": {},
          "execution_count": 134
        },
        {
          "output_type": "display_data",
          "data": {
            "text/plain": [
              "<Figure size 640x480 with 1 Axes>"
            ],
            "image/png": "[encoded data removed]"
          },
          "metadata": {}
        }
      ]
    },
    {
      "cell_type": "code",
      "source": [
        "preds_new = model(x_test)\n",
        "preds_new = torch.argmax(preds_new,dim=1)\n",
        "\n",
        "correct = 0\n",
        "incorrect = 0\n",
        "\n",
        "for i in range(len(preds_new)):\n",
        "  if preds_new[i] == y_test[i]:\n",
        "    correct += 1\n",
        "  else:\n",
        "    incorrect += 1\n",
        "\n",
        "print(correct,incorrect,incorrect+correct)"
      ],
      "metadata": {
        "colab": {
          "base_uri": "https://localhost:8080/"
        },
        "id": "VCJiB9acnpvp",
        "outputId": "d512feac-fd8e-4304-b553-8521602539b5"
      },
      "execution_count": 136,
      "outputs": [
        {
          "output_type": "stream",
          "name": "stdout",
          "text": [
            "213 25 238\n"
          ]
        }
      ]
    },
    {
      "cell_type": "code",
      "source": [
        "'''Forgot to add the scheduler line and due to lack of compute units again can't run the training again. Other than that all good i think the accuracy can be better\n",
        "by 10 more percent with some tweaks.'''"
      ],
      "metadata": {
        "colab": {
          "base_uri": "https://localhost:8080/",
          "height": 35
        },
        "id": "xiiO6-pTnpt0",
        "outputId": "7fd66500-e405-4f5b-84db-c43a502792bb"
      },
      "execution_count": 68,
      "outputs": [
        {
          "output_type": "execute_result",
          "data": {
            "text/plain": [
              "\"Forgot to add the scheduler line and due to lack of compute units again can't run the training again. Other than that all good i think the accuracy can be better\\nby 10 more percent with some tweaks.\""
            ],
            "application/vnd.google.colaboratory.intrinsic+json": {
              "type": "string"
            }
          },
          "metadata": {},
          "execution_count": 68
        }
      ]
    },
    {
      "cell_type": "code",
      "source": [
        "0.024453120306134224 < 0.001\n"
      ],
      "metadata": {
        "colab": {
          "base_uri": "https://localhost:8080/"
        },
        "id": "RQs1wrpfnpr0",
        "outputId": "c541ca3f-f6f1-4419-e03f-a1de03e60bd5"
      },
      "execution_count": 116,
      "outputs": [
        {
          "output_type": "execute_result",
          "data": {
            "text/plain": [
              "False"
            ]
          },
          "metadata": {},
          "execution_count": 116
        }
      ]
    },
    {
      "cell_type": "code",
      "source": [],
      "metadata": {
        "id": "wLnKntHQnpn4"
      },
      "execution_count": null,
      "outputs": []
    }
  ]
}